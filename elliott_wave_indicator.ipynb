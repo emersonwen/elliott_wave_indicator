{
 "cells": [
  {
   "cell_type": "code",
   "execution_count": 1,
   "metadata": {},
   "outputs": [],
   "source": [
    "from tradingview_ta import TA_Handler, Interval, Exchange\n",
    "import tradingview_ta"
   ]
  },
  {
   "cell_type": "code",
   "execution_count": 2,
   "metadata": {},
   "outputs": [
    {
     "name": "stdout",
     "output_type": "stream",
     "text": [
      "3.2.10\n"
     ]
    }
   ],
   "source": [
    "print(tradingview_ta.__version__)"
   ]
  },
  {
   "cell_type": "code",
   "execution_count": 4,
   "metadata": {},
   "outputs": [],
   "source": [
    "handler = TA_Handler(\n",
    "    symbol=\"SOLUSD\",\n",
    "    exchange=\"HITBTC\",\n",
    "    screener=\"Crypto\",\n",
    "    interval=\"1W\",\n",
    "    timeout=None\n",
    ")"
   ]
  },
  {
   "cell_type": "code",
   "execution_count": 5,
   "metadata": {},
   "outputs": [],
   "source": [
    "analysis = handler.get_analysis()"
   ]
  },
  {
   "cell_type": "code",
   "execution_count": 9,
   "metadata": {},
   "outputs": [
    {
     "name": "stdout",
     "output_type": "stream",
     "text": [
      "{'RECOMMENDATION': 'SELL', 'BUY': 3, 'SELL': 10, 'NEUTRAL': 9}\n"
     ]
    }
   ],
   "source": [
    "print(analysis.summary)"
   ]
  }
 ],
 "metadata": {
  "interpreter": {
   "hash": "e08a56bfc998586625869874a372b284b7c7ab80671161e215dec0dc2a21fc35"
  },
  "kernelspec": {
   "display_name": "Python 3.7.11 ('dev')",
   "language": "python",
   "name": "python3"
  },
  "language_info": {
   "codemirror_mode": {
    "name": "ipython",
    "version": 3
   },
   "file_extension": ".py",
   "mimetype": "text/x-python",
   "name": "python",
   "nbconvert_exporter": "python",
   "pygments_lexer": "ipython3",
   "version": "3.7.11"
  },
  "orig_nbformat": 4
 },
 "nbformat": 4,
 "nbformat_minor": 2
}
