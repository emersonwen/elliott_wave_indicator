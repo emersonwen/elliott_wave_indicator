{
 "cells": [
  {
   "cell_type": "code",
   "execution_count": 1,
   "id": "9e8aa00f-c7c8-4efe-8626-12d34d6bb9b5",
   "metadata": {},
   "outputs": [],
   "source": [
    "#I installed TA-lib for Python \n",
    "import talib as ta"
   ]
  },
  {
   "cell_type": "code",
   "execution_count": 2,
   "id": "5fcb70bb",
   "metadata": {},
   "outputs": [],
   "source": [
    "import os \n",
    "from dotenv import load_dotenv\n",
    "import pandas as pd\n",
    "import requests\n",
    "\n",
    "from binance import Client"
   ]
  },
  {
   "cell_type": "code",
   "execution_count": 3,
   "id": "6814317a",
   "metadata": {},
   "outputs": [
    {
     "data": {
      "text/plain": [
       "True"
      ]
     },
     "execution_count": 3,
     "metadata": {},
     "output_type": "execute_result"
    }
   ],
   "source": [
    "load_dotenv()"
   ]
  },
  {
   "cell_type": "code",
   "execution_count": 4,
   "id": "4a2eabc6",
   "metadata": {},
   "outputs": [],
   "source": [
    "#Created API Keys from Binance and saved them in a .env file \n",
    "BINANCE_API_KEY=os.getenv('BINANCE_API_KEY')\n",
    "BINANCE_SECRET_KEY=os.getenv('BINANCE_SECRET_KEY')\n",
    "client = Client(BINANCE_API_KEY, BINANCE_SECRET_KEY, tld='us')"
   ]
  },
  {
   "cell_type": "code",
   "execution_count": 5,
   "id": "9bf6e028",
   "metadata": {},
   "outputs": [],
   "source": [
    "client = Client(BINANCE_API_KEY, BINANCE_SECRET_KEY, tld='us')"
   ]
  },
  {
   "cell_type": "code",
   "execution_count": 6,
   "id": "dce7051e",
   "metadata": {},
   "outputs": [],
   "source": [
    "#Pulled the trade history\n",
    "trades = client.get_historical_trades(symbol='SOLUSD')\n",
    "\n",
    "klines = client.get_historical_klines(\"SOLUSD\", Client.KLINE_INTERVAL_1DAY, \"30 Apr, 2020\", \"30 Apr, 2022\")"
   ]
  },
  {
   "cell_type": "code",
   "execution_count": 7,
   "id": "4f1a190b",
   "metadata": {},
   "outputs": [],
   "source": [
    "pd.DataFrame(klines) \n",
    "klines_df = pd.DataFrame(klines) "
   ]
  },
  {
   "cell_type": "code",
   "execution_count": 9,
   "id": "72eba2c1",
   "metadata": {},
   "outputs": [],
   "source": [
    "#Created columns for my data\n",
    "klines_df.columns = ['open time', 'open', 'high', 'low', 'close', 'volume', 'close time', 'quote asset volume', 'number of trades', 'taker buy base asset volume', 'taker buy quote asset volume', 'NaN']"
   ]
  },
  {
   "cell_type": "code",
   "execution_count": 13,
   "id": "078d2ebb",
   "metadata": {},
   "outputs": [],
   "source": [
    "\n",
    "klines_df = klines_df.drop(columns='NaN')"
   ]
  },
  {
   "cell_type": "code",
   "execution_count": 17,
   "id": "144ec213",
   "metadata": {},
   "outputs": [
    {
     "data": {
      "text/plain": [
       "<bound method Series.append of 0            NaN\n",
       "1            NaN\n",
       "2            NaN\n",
       "3            NaN\n",
       "4            NaN\n",
       "         ...    \n",
       "585    40.651999\n",
       "586    43.951578\n",
       "587    43.797086\n",
       "588    39.697602\n",
       "589    32.510080\n",
       "Length: 590, dtype: float64>"
      ]
     },
     "execution_count": 17,
     "metadata": {},
     "output_type": "execute_result"
    }
   ],
   "source": [
    "#Used the TA libray to calculate the RSI for a 14 window\n",
    "ta.RSI(klines_df['close'], timeperiod=14)\n",
    "SOL_RSI_Output = ta.RSI(klines_df['close'], timeperiod=14)\n",
    "#save data\n",
    "SOL_RSI_Output.append \n"
   ]
  },
  {
   "cell_type": "code",
   "execution_count": 18,
   "id": "7b9808a0",
   "metadata": {},
   "outputs": [],
   "source": [
    "SOL_RSI_Output_df = pd.DataFrame(SOL_RSI_Output)"
   ]
  },
  {
   "cell_type": "code",
   "execution_count": 19,
   "id": "3d83c80f",
   "metadata": {},
   "outputs": [],
   "source": [
    "#Exported my data to a CVS\n",
    "SOL_RSI_Output = SOL_RSI_Output_df.to_csv('SOL_RSI_Output_Third_Go', index = True)"
   ]
  }
 ],
 "metadata": {
  "interpreter": {
   "hash": "88faf968d59841e7ef8a87304018a28eabc64e8d2716b3df8adebfd562b96072"
  },
  "kernelspec": {
   "display_name": "Python 3.7.11 ('dev')",
   "language": "python",
   "name": "python3"
  },
  "language_info": {
   "codemirror_mode": {
    "name": "ipython",
    "version": 3
   },
   "file_extension": ".py",
   "mimetype": "text/x-python",
   "name": "python",
   "nbconvert_exporter": "python",
   "pygments_lexer": "ipython3",
   "version": "3.7.11"
  }
 },
 "nbformat": 4,
 "nbformat_minor": 5
}
