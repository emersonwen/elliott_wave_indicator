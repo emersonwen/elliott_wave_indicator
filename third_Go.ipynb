{
 "cells": [
  {
   "cell_type": "code",
   "execution_count": 20,
   "id": "9e8aa00f-c7c8-4efe-8626-12d34d6bb9b5",
   "metadata": {},
   "outputs": [],
   "source": [
    "#I installed TA-lib for Python \n",
    "import talib as ta"
   ]
  },
  {
   "cell_type": "code",
   "execution_count": 21,
   "id": "5fcb70bb",
   "metadata": {},
   "outputs": [],
   "source": [
    "import os \n",
    "from dotenv import load_dotenv\n",
    "import pandas as pd\n",
    "import requests\n",
    "\n",
    "from binance import Client"
   ]
  },
  {
   "cell_type": "code",
   "execution_count": 22,
   "id": "94d69bbb",
   "metadata": {},
   "outputs": [],
   "source": [
    "import numpy as np\n",
    "import hvplot.pandas\n",
    "from pathlib import Path"
   ]
  },
  {
   "cell_type": "code",
   "execution_count": 23,
   "id": "6814317a",
   "metadata": {},
   "outputs": [
    {
     "data": {
      "text/plain": [
       "True"
      ]
     },
     "execution_count": 23,
     "metadata": {},
     "output_type": "execute_result"
    }
   ],
   "source": [
    "load_dotenv()"
   ]
  },
  {
   "cell_type": "code",
   "execution_count": 24,
   "id": "4a2eabc6",
   "metadata": {},
   "outputs": [],
   "source": [
    "#Created API Keys from Binance and saved them in a .env file \n",
    "BINANCE_API_KEY=os.getenv('BINANCE_API_KEY')\n",
    "BINANCE_SECRET_KEY=os.getenv('BINANCE_SECRET_KEY')\n",
    "client = Client(BINANCE_API_KEY, BINANCE_SECRET_KEY, tld='us')"
   ]
  },
  {
   "cell_type": "code",
   "execution_count": 25,
   "id": "9bf6e028",
   "metadata": {},
   "outputs": [],
   "source": [
    "client = Client(BINANCE_API_KEY, BINANCE_SECRET_KEY, tld='us')"
   ]
  },
  {
   "cell_type": "code",
   "execution_count": 26,
   "id": "dce7051e",
   "metadata": {},
   "outputs": [],
   "source": [
    "#Pulled the trade history\n",
    "trades = client.get_historical_trades(symbol='SOLUSD')\n",
    "\n",
    "klines = client.get_historical_klines(\"SOLUSD\", Client.KLINE_INTERVAL_1DAY, \"30 Apr, 2020\", \"30 Apr, 2022\")"
   ]
  },
  {
   "cell_type": "code",
   "execution_count": 27,
   "id": "4f1a190b",
   "metadata": {},
   "outputs": [],
   "source": [
    "pd.DataFrame(klines) \n",
    "klines_df = pd.DataFrame(klines) "
   ]
  },
  {
   "cell_type": "code",
   "execution_count": 28,
   "id": "72eba2c1",
   "metadata": {},
   "outputs": [],
   "source": [
    "#Created columns for my data\n",
    "klines_df.columns = ['open time', 'open', 'high', 'low', 'close', 'volume', 'close time', 'quote asset volume', 'number of trades', 'taker buy base asset volume', 'taker buy quote asset volume', 'NaN']"
   ]
  },
  {
   "cell_type": "code",
   "execution_count": 29,
   "id": "078d2ebb",
   "metadata": {},
   "outputs": [],
   "source": [
    "\n",
    "klines_df = klines_df.drop(columns='NaN')"
   ]
  },
  {
   "cell_type": "code",
   "execution_count": 30,
   "id": "144ec213",
   "metadata": {},
   "outputs": [
    {
     "data": {
      "text/plain": [
       "<bound method Series.append of 0            NaN\n",
       "1            NaN\n",
       "2            NaN\n",
       "3            NaN\n",
       "4            NaN\n",
       "         ...    \n",
       "585    40.651999\n",
       "586    43.951578\n",
       "587    43.797086\n",
       "588    39.697602\n",
       "589    32.510080\n",
       "Length: 590, dtype: float64>"
      ]
     },
     "execution_count": 30,
     "metadata": {},
     "output_type": "execute_result"
    }
   ],
   "source": [
    "#Used the TA libray to calculate the RSI for a 14 window\n",
    "ta.RSI(klines_df['close'], timeperiod=14)\n",
    "SOL_RSI_Output = ta.RSI(klines_df['close'], timeperiod=14)\n",
    "#save data\n",
    "SOL_RSI_Output.append \n"
   ]
  },
  {
   "cell_type": "code",
   "execution_count": 31,
   "id": "7b9808a0",
   "metadata": {},
   "outputs": [],
   "source": [
    "SOL_RSI_Output_df = pd.DataFrame(SOL_RSI_Output)\n"
   ]
  },
  {
   "cell_type": "code",
   "execution_count": 32,
   "id": "3d83c80f",
   "metadata": {},
   "outputs": [],
   "source": [
    "#Exported my data to a CVS\n",
    "SOL_RSI_Output = SOL_RSI_Output_df.to_csv('SOL_RSI_Output_Third_Go.csv', index = True)"
   ]
  },
  {
   "cell_type": "code",
   "execution_count": 37,
   "id": "568a225d",
   "metadata": {},
   "outputs": [
    {
     "data": {},
     "metadata": {},
     "output_type": "display_data"
    },
    {
     "data": {
      "application/vnd.holoviews_exec.v0+json": "",
      "text/html": [
       "<div id='1124'>\n",
       "\n",
       "\n",
       "\n",
       "\n",
       "\n",
       "  <div class=\"bk-root\" id=\"49db18ed-e21b-458b-b5db-0c3e3619f14b\" data-root-id=\"1124\"></div>\n",
       "</div>\n",
       "<script type=\"application/javascript\">(function(root) {\n",
       "  function embed_document(root) {\n",
       "    var docs_json = {\"d6d71e0b-e39f-40e2-b561-a08609535189\":{\"defs\":[{\"extends\":null,\"module\":null,\"name\":\"ReactiveHTML1\",\"overrides\":[],\"properties\":[]},{\"extends\":null,\"module\":null,\"name\":\"FlexBox1\",\"overrides\":[],\"properties\":[{\"default\":\"flex-start\",\"kind\":null,\"name\":\"align_content\"},{\"default\":\"flex-start\",\"kind\":null,\"name\":\"align_items\"},{\"default\":\"row\",\"kind\":null,\"name\":\"flex_direction\"},{\"default\":\"wrap\",\"kind\":null,\"name\":\"flex_wrap\"},{\"default\":\"flex-start\",\"kind\":null,\"name\":\"justify_content\"}]},{\"extends\":null,\"module\":null,\"name\":\"TemplateActions1\",\"overrides\":[],\"properties\":[{\"default\":0,\"kind\":null,\"name\":\"open_modal\"},{\"default\":0,\"kind\":null,\"name\":\"close_modal\"}]},{\"extends\":null,\"module\":null,\"name\":\"MaterialTemplateActions1\",\"overrides\":[],\"properties\":[{\"default\":0,\"kind\":null,\"name\":\"open_modal\"},{\"default\":0,\"kind\":null,\"name\":\"close_modal\"}]}],\"roots\":{\"references\":[{\"attributes\":{\"coordinates\":null,\"group\":null,\"text_color\":\"black\",\"text_font_size\":\"12pt\"},\"id\":\"1130\",\"type\":\"Title\"},{\"attributes\":{\"line_color\":\"#30a2da\",\"line_width\":2,\"x\":{\"field\":\"RSI\"},\"y\":{\"field\":\"0\"}},\"id\":\"1162\",\"type\":\"Line\"},{\"attributes\":{},\"id\":\"1143\",\"type\":\"BasicTicker\"},{\"attributes\":{\"axis\":{\"id\":\"1138\"},\"coordinates\":null,\"grid_line_color\":null,\"group\":null,\"ticker\":null},\"id\":\"1141\",\"type\":\"Grid\"},{\"attributes\":{},\"id\":\"1172\",\"type\":\"BasicTickFormatter\"},{\"attributes\":{},\"id\":\"1173\",\"type\":\"AllLabels\"},{\"attributes\":{},\"id\":\"1170\",\"type\":\"AllLabels\"},{\"attributes\":{},\"id\":\"1139\",\"type\":\"BasicTicker\"},{\"attributes\":{\"axis_label\":\"0\",\"coordinates\":null,\"formatter\":{\"id\":\"1172\"},\"group\":null,\"major_label_policy\":{\"id\":\"1173\"},\"ticker\":{\"id\":\"1143\"}},\"id\":\"1142\",\"type\":\"LinearAxis\"},{\"attributes\":{\"margin\":[5,5,5,5],\"name\":\"HSpacer01923\",\"sizing_mode\":\"stretch_width\"},\"id\":\"1125\",\"type\":\"Spacer\"},{\"attributes\":{},\"id\":\"1134\",\"type\":\"LinearScale\"},{\"attributes\":{\"axis_label\":\"RSI\",\"coordinates\":null,\"formatter\":{\"id\":\"1169\"},\"group\":null,\"major_label_policy\":{\"id\":\"1170\"},\"ticker\":{\"id\":\"1139\"}},\"id\":\"1138\",\"type\":\"LinearAxis\"},{\"attributes\":{\"below\":[{\"id\":\"1138\"}],\"center\":[{\"id\":\"1141\"},{\"id\":\"1145\"}],\"height\":300,\"left\":[{\"id\":\"1142\"}],\"margin\":[5,5,5,5],\"min_border_bottom\":10,\"min_border_left\":10,\"min_border_right\":10,\"min_border_top\":10,\"renderers\":[{\"id\":\"1165\"}],\"sizing_mode\":\"fixed\",\"title\":{\"id\":\"1130\"},\"toolbar\":{\"id\":\"1152\"},\"width\":700,\"x_range\":{\"id\":\"1126\"},\"x_scale\":{\"id\":\"1134\"},\"y_range\":{\"id\":\"1127\"},\"y_scale\":{\"id\":\"1136\"}},\"id\":\"1129\",\"subtype\":\"Figure\",\"type\":\"Plot\"},{\"attributes\":{\"children\":[{\"id\":\"1125\"},{\"id\":\"1129\"},{\"id\":\"1194\"}],\"margin\":[0,0,0,0],\"name\":\"Row01919\",\"tags\":[\"embedded\"]},\"id\":\"1124\",\"type\":\"Row\"},{\"attributes\":{\"end\":589.0,\"reset_end\":589.0,\"reset_start\":0.0,\"tags\":[[[\"RSI\",\"RSI\",null]]]},\"id\":\"1126\",\"type\":\"Range1d\"},{\"attributes\":{\"end\":97.05835216352385,\"reset_end\":97.05835216352385,\"reset_start\":14.162068624741188,\"start\":14.162068624741188,\"tags\":[[[\"0\",\"0\",null]]]},\"id\":\"1127\",\"type\":\"Range1d\"},{\"attributes\":{\"line_alpha\":0.1,\"line_color\":\"#30a2da\",\"line_width\":2,\"x\":{\"field\":\"RSI\"},\"y\":{\"field\":\"0\"}},\"id\":\"1163\",\"type\":\"Line\"},{\"attributes\":{\"callback\":null,\"renderers\":[{\"id\":\"1165\"}],\"tags\":[\"hv_created\"],\"tooltips\":[[\"RSI\",\"@{RSI}\"],[\"0\",\"@{A_0}\"]]},\"id\":\"1128\",\"type\":\"HoverTool\"},{\"attributes\":{\"axis\":{\"id\":\"1142\"},\"coordinates\":null,\"dimension\":1,\"grid_line_color\":null,\"group\":null,\"ticker\":null},\"id\":\"1145\",\"type\":\"Grid\"},{\"attributes\":{\"coordinates\":null,\"data_source\":{\"id\":\"1159\"},\"glyph\":{\"id\":\"1162\"},\"group\":null,\"hover_glyph\":null,\"muted_glyph\":{\"id\":\"1164\"},\"nonselection_glyph\":{\"id\":\"1163\"},\"selection_glyph\":{\"id\":\"1167\"},\"view\":{\"id\":\"1166\"}},\"id\":\"1165\",\"type\":\"GlyphRenderer\"},{\"attributes\":{\"source\":{\"id\":\"1159\"}},\"id\":\"1166\",\"type\":\"CDSView\"},{\"attributes\":{\"line_alpha\":0.2,\"line_color\":\"#30a2da\",\"line_width\":2,\"x\":{\"field\":\"RSI\"},\"y\":{\"field\":\"0\"}},\"id\":\"1164\",\"type\":\"Line\"},{\"attributes\":{\"line_color\":\"#30a2da\",\"line_width\":2,\"x\":{\"field\":\"RSI\"},\"y\":{\"field\":\"0\"}},\"id\":\"1167\",\"type\":\"Line\"},{\"attributes\":{\"tools\":[{\"id\":\"1128\"},{\"id\":\"1146\"},{\"id\":\"1147\"},{\"id\":\"1148\"},{\"id\":\"1149\"},{\"id\":\"1150\"}]},\"id\":\"1152\",\"type\":\"Toolbar\"},{\"attributes\":{\"data\":{\"0\":{\"__ndarray__\":\"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\",\"dtype\":\"float64\",\"order\":\"little\",\"shape\":[590]},\"A_0\":{\"__ndarray__\":\"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\",\"dtype\":\"float64\",\"order\":\"little\",\"shape\":[590]},\"RSI\":{\"__ndarray__\":\"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\",\"dtype\":\"int32\",\"order\":\"little\",\"shape\":[590]}},\"selected\":{\"id\":\"1160\"},\"selection_policy\":{\"id\":\"1181\"}},\"id\":\"1159\",\"type\":\"ColumnDataSource\"},{\"attributes\":{\"bottom_units\":\"screen\",\"coordinates\":null,\"fill_alpha\":0.5,\"fill_color\":\"lightgrey\",\"group\":null,\"left_units\":\"screen\",\"level\":\"overlay\",\"line_alpha\":1.0,\"line_color\":\"black\",\"line_dash\":[4,4],\"line_width\":2,\"right_units\":\"screen\",\"syncable\":false,\"top_units\":\"screen\"},\"id\":\"1151\",\"type\":\"BoxAnnotation\"},{\"attributes\":{},\"id\":\"1146\",\"type\":\"SaveTool\"},{\"attributes\":{},\"id\":\"1160\",\"type\":\"Selection\"},{\"attributes\":{},\"id\":\"1147\",\"type\":\"PanTool\"},{\"attributes\":{},\"id\":\"1150\",\"type\":\"ResetTool\"},{\"attributes\":{},\"id\":\"1169\",\"type\":\"BasicTickFormatter\"},{\"attributes\":{},\"id\":\"1181\",\"type\":\"UnionRenderers\"},{\"attributes\":{\"margin\":[5,5,5,5],\"name\":\"HSpacer01924\",\"sizing_mode\":\"stretch_width\"},\"id\":\"1194\",\"type\":\"Spacer\"},{\"attributes\":{},\"id\":\"1148\",\"type\":\"WheelZoomTool\"},{\"attributes\":{\"overlay\":{\"id\":\"1151\"}},\"id\":\"1149\",\"type\":\"BoxZoomTool\"},{\"attributes\":{},\"id\":\"1136\",\"type\":\"LinearScale\"}],\"root_ids\":[\"1124\"]},\"title\":\"Bokeh Application\",\"version\":\"2.4.1\"}};\n",
       "    var render_items = [{\"docid\":\"d6d71e0b-e39f-40e2-b561-a08609535189\",\"root_ids\":[\"1124\"],\"roots\":{\"1124\":\"49db18ed-e21b-458b-b5db-0c3e3619f14b\"}}];\n",
       "    root.Bokeh.embed.embed_items_notebook(docs_json, render_items);\n",
       "  }\n",
       "  if (root.Bokeh !== undefined && root.Bokeh.Panel !== undefined) {\n",
       "    embed_document(root);\n",
       "  } else {\n",
       "    var attempts = 0;\n",
       "    var timer = setInterval(function(root) {\n",
       "      if (root.Bokeh !== undefined && root.Bokeh.Panel !== undefined) {\n",
       "        clearInterval(timer);\n",
       "        embed_document(root);\n",
       "      } else if (document.readyState == \"complete\") {\n",
       "        attempts++;\n",
       "        if (attempts > 200) {\n",
       "          clearInterval(timer);\n",
       "          console.log(\"Bokeh: ERROR: Unable to run BokehJS code because BokehJS library is missing\");\n",
       "        }\n",
       "      }\n",
       "    }, 25, root)\n",
       "  }\n",
       "})(window);</script>"
      ],
      "text/plain": [
       ":Curve   [RSI]   (0)"
      ]
     },
     "execution_count": 37,
     "metadata": {
      "application/vnd.holoviews_exec.v0+json": {
       "id": "1124"
      }
     },
     "output_type": "execute_result"
    }
   ],
   "source": [
    "SOL_RSI_Output_df.hvplot(x=\"RSI\")"
   ]
  }
 ],
 "metadata": {
  "interpreter": {
   "hash": "88faf968d59841e7ef8a87304018a28eabc64e8d2716b3df8adebfd562b96072"
  },
  "kernelspec": {
   "display_name": "Python 3.7.11 ('dev')",
   "language": "python",
   "name": "python3"
  },
  "language_info": {
   "codemirror_mode": {
    "name": "ipython",
    "version": 3
   },
   "file_extension": ".py",
   "mimetype": "text/x-python",
   "name": "python",
   "nbconvert_exporter": "python",
   "pygments_lexer": "ipython3",
   "version": "3.7.11"
  }
 },
 "nbformat": 4,
 "nbformat_minor": 5
}
