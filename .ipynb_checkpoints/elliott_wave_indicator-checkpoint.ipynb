{
 "cells": [
  {
   "cell_type": "markdown",
   "metadata": {},
   "source": [
    "## Elliott Wave and Fibonacci Retracement Indicators\n",
    "<hr /> \n",
    "\n",
    "Utilization of Fibonacci Golden Ratio __Φ__, standard deviation, exponentially weighted moving average, daily returns, and covariance to identify the upswing and downswing momentums of high volatility cryptocurrency, Solanas USD, to be later utilized as buy triggers or stop-loss triggers. "
   ]
  },
  {
   "cell_type": "markdown",
   "metadata": {},
   "source": [
    "### Part I \n",
    "> Import and creation of Solanas USD pricing data (from January 2020 to April 2022) from Binance."
   ]
  },
  {
   "cell_type": "code",
   "execution_count": null,
   "metadata": {},
   "outputs": [],
   "source": [
    "# Imports of key OS and API libraries and packages\n",
    "import os \n",
    "from dotenv import load_dotenv\n",
    "import requests\n",
    "from binance import Client\n",
    "\n",
    "# Imports of Pandas and related packages\n",
    "import pandas as pd\n",
    "import numpy as np\n",
    "import seaborn as sns\n",
    "import plotly.graph_objects as go\n",
    "import plotly.express as px\n",
    "%matplotlib inline"
   ]
  },
  {
   "cell_type": "code",
   "execution_count": null,
   "metadata": {},
   "outputs": [],
   "source": [
    "# Setting up Binance API keys and client for data endpoints\n",
    "load_dotenv()\n",
    "BINANCE_API_KEY=os.getenv('BINANCE_API_KEY')\n",
    "BINANCE_SECRET_KEY=os.getenv('BINANCE_SECRET_KEY')\n",
    "client = Client(BINANCE_API_KEY, BINANCE_SECRET_KEY, tld='us')"
   ]
  },
  {
   "cell_type": "code",
   "execution_count": null,
   "metadata": {},
   "outputs": [],
   "source": [
    "# Fetching Solanas USD data from January 2020 to April 2022 for the interval of 1-Day\n",
    "klines = client.get_historical_klines(\"SOLUSD\", Client.KLINE_INTERVAL_1DAY, \"01 Jan, 2020\", \"30 Apr, 2022\")\n",
    "\n",
    "# Converting into a Dataframe\n",
    "klines_df = pd.DataFrame(klines)\n",
    "\n",
    "# Renaming columns to their correct labels\n",
    "klines_df.columns = ['open_time', 'open', 'high', 'low', 'close', 'volume', 'close_time', 'quote_asset_volume', 'number_of_trades', 'taker_buy_base_asset_volume', 'taker_buy_quote_asset_volume', 'NaN']\n",
    "\n",
    "# Converting open_time and close_time data values to date-time format\n",
    "klines_df['open_time'] = pd.to_datetime(klines_df['open_time'], unit='ms')\n",
    "klines_df['close_time'] = pd.to_datetime(klines_df['close_time'], unit='ms')\n",
    "\n",
    "# Dropping last column NaN\n",
    "klines_df.drop(columns='NaN', inplace=True)\n",
    "\n",
    "# Display Dataframe\n",
    "klines_df"
   ]
  },
  {
   "cell_type": "code",
   "execution_count": null,
   "metadata": {},
   "outputs": [],
   "source": [
    "# Fixing datatype to replace closing price, open price, high, low and volume from an object to a float\n",
    "klines_df['close'] = klines_df['close'].str.replace('','')\n",
    "klines_df['close'] = klines_df['close'].astype('float')\n",
    "\n",
    "klines_df['open'] = klines_df['open'].str.replace('','')\n",
    "klines_df['open'] = klines_df['open'].astype('float')\n",
    "\n",
    "klines_df['high'] = klines_df['high'].str.replace('','')\n",
    "klines_df['high'] = klines_df['high'].astype('float')\n",
    "\n",
    "klines_df['low'] = klines_df['low'].str.replace('','')\n",
    "klines_df['low'] = klines_df['low'].astype('float')\n",
    "\n",
    "klines_df['volume'] = klines_df['volume'].str.replace('','')\n",
    "klines_df['volume'] = klines_df['volume'].astype('float')\n",
    "\n",
    "klines_df['number_of_trades'] = klines_df['number_of_trades'].astype('float')\n",
    "\n",
    "klines_df['quote_asset_volume'] = klines_df['quote_asset_volume'].str.replace('','')\n",
    "klines_df['quote_asset_volume'] = klines_df['quote_asset_volume'].astype('float')\n",
    "\n",
    "klines_df['taker_buy_base_asset_volume'] = klines_df['taker_buy_base_asset_volume'].str.replace('','')\n",
    "klines_df['taker_buy_base_asset_volume'] = klines_df['taker_buy_base_asset_volume'].astype('float')\n",
    "\n",
    "klines_df['taker_buy_quote_asset_volume'] = klines_df['taker_buy_quote_asset_volume'].str.replace('','')\n",
    "klines_df['taker_buy_quote_asset_volume'] = klines_df['taker_buy_quote_asset_volume'].astype('float')\n",
    "\n",
    "klines_df.dtypes"
   ]
  },
  {
   "cell_type": "markdown",
   "metadata": {},
   "source": [
    "## Part II \n",
    "> Visual inspection of data relationships through plots"
   ]
  },
  {
   "cell_type": "markdown",
   "metadata": {},
   "source": [
    "#### Candlestick plot of SOLUSD trading movements from January of 2020 to April of 2022"
   ]
  },
  {
   "cell_type": "code",
   "execution_count": null,
   "metadata": {},
   "outputs": [],
   "source": [
    "# Candlestick plot of SOLUSD trading movements\n",
    "sol_trades_fig = go.Figure(data=[go.Candlestick(x=klines_df['open_time'],\n",
    "                open=klines_df['open'],\n",
    "                high=klines_df['high'],\n",
    "                low=klines_df['low'],\n",
    "                close=klines_df['close'])])"
   ]
  },
  {
   "cell_type": "code",
   "execution_count": null,
   "metadata": {},
   "outputs": [],
   "source": [
    "sol_trades_fig.update_layout(height=500, showlegend=True)\n",
    "sol_trades_fig.show()"
   ]
  },
  {
   "cell_type": "markdown",
   "metadata": {},
   "source": [
    "From the candlestick time series plot of the SOLUSD trade activities, we can identify the start of upswing and the beginning of mass market trading activities to be sometime around July to August of 2021. \n",
    "\n",
    "<hr />"
   ]
  },
  {
   "cell_type": "markdown",
   "metadata": {},
   "source": [
    "#### Correlation matrix and heatmap of data features"
   ]
  },
  {
   "cell_type": "code",
   "execution_count": null,
   "metadata": {},
   "outputs": [],
   "source": [
    "# Creating a correlation analysis specific dataframe\n",
    "klines_df_corr = klines_df.drop(columns=['open_time','close_time'])\n",
    "klines_df_corr = klines_df_corr.round(decimals=2)\n",
    "klines_df_corr"
   ]
  },
  {
   "cell_type": "code",
   "execution_count": null,
   "metadata": {},
   "outputs": [],
   "source": [
    "# Correlations matrix of SOLUSD features\n",
    "klines_df_corr.corr()"
   ]
  },
  {
   "cell_type": "markdown",
   "metadata": {},
   "source": [
    "We find that the prices have the highest correlation with number_of_trades from 0.628 to 0.675. Taker_buy_quote_asset_volume has the second highest correlation to prices followed by quote_asset_volume."
   ]
  },
  {
   "cell_type": "code",
   "execution_count": null,
   "metadata": {},
   "outputs": [],
   "source": [
    "# Seaborn heatmap of correlations\n",
    "sns.heatmap(klines_df_corr.corr());"
   ]
  },
  {
   "cell_type": "markdown",
   "metadata": {},
   "source": [
    "#### Analyzing the exponentially weighted moving average. "
   ]
  },
  {
   "cell_type": "code",
   "execution_count": null,
   "metadata": {},
   "outputs": [],
   "source": [
    "# Initializing index column of klines_df to open_time\n",
    "klines_df.set_index('open_time', inplace=True)\n",
    "klines_df.drop(columns='close_time', inplace=True)\n",
    "klines_df = klines_df.round(decimals=2)"
   ]
  },
  {
   "cell_type": "markdown",
   "metadata": {},
   "source": [
    "Utilizing the Fibonacci natural series 0,1,1,2,3,5,8,13, we will use 3, 8, and 13 consecutively, each 5 days apart, to capture a bracket of volatility movements for the data series to help us later identify the indicators for the swings."
   ]
  },
  {
   "cell_type": "code",
   "execution_count": null,
   "metadata": {},
   "outputs": [],
   "source": [
    "# Exponentially weighted moving average (std) with 3-day half-life\n",
    "klines_ewm3 = klines_df.ewm(halflife=3).std().dropna()\n",
    "klines_ewm3.plot(figsize=(10,6),title='EWM of Solana')"
   ]
  },
  {
   "cell_type": "code",
   "execution_count": null,
   "metadata": {},
   "outputs": [],
   "source": [
    "# Exponentially weighted moving average (std) with 8-day half-life\n",
    "klines_ewm8 = klines_df.ewm(halflife=8).std().dropna()\n",
    "klines_ewm8.plot(figsize=(10,6),title='EWM of Solana')"
   ]
  },
  {
   "cell_type": "code",
   "execution_count": null,
   "metadata": {},
   "outputs": [],
   "source": [
    "# Exponentially weighted moving average (std) with 13-day half-life\n",
    "klines_ewm13 = klines_df.ewm(halflife=13).std().dropna()\n",
    "klines_ewm13.plot(figsize=(10,6),title='EWM of Solana')"
   ]
  },
  {
   "cell_type": "markdown",
   "metadata": {},
   "source": [
    "From these three plots of exponentialy weighted moving average, we found that the quote_asset_volume and taker_buy_quote_asset_volume closely resembles the movements of the prices. \n",
    "\n",
    "Note that the prices are not visible due to the differences in numbers. Next we will repeat the plots with just pricing movements. "
   ]
  },
  {
   "cell_type": "code",
   "execution_count": null,
   "metadata": {},
   "outputs": [],
   "source": [
    "# Dropping the last five columns\n",
    "new_klines_df = klines_df.drop(columns=['volume','quote_asset_volume','number_of_trades', 'taker_buy_base_asset_volume','taker_buy_quote_asset_volume'])\n",
    "new_klines_df "
   ]
  },
  {
   "cell_type": "code",
   "execution_count": null,
   "metadata": {},
   "outputs": [],
   "source": [
    "# Exponentially weighted moving average (std) with 3-day half-life\n",
    "new_klines_ewm3 = new_klines_df.ewm(halflife=3).std().dropna()\n",
    "new_klines_ewm3.plot(figsize=(10,6),title='EWM of Solana')"
   ]
  },
  {
   "cell_type": "code",
   "execution_count": null,
   "metadata": {},
   "outputs": [],
   "source": [
    "# Exponentially weighted moving average (std) with 8-day half-life\n",
    "new_klines_ewm8 = new_klines_df.ewm(halflife=8).std().dropna()\n",
    "new_klines_ewm8.plot(figsize=(10,6),title='EWM of Solana')"
   ]
  },
  {
   "cell_type": "code",
   "execution_count": null,
   "metadata": {},
   "outputs": [],
   "source": [
    "# Exponentially weighted moving average (std) with 13-day half-life\n",
    "new_klines_ewm13 = new_klines_df.ewm(halflife=13).std().dropna()\n",
    "new_klines_ewm13.plot(figsize=(10,6),title='EWM of Solana')"
   ]
  },
  {
   "cell_type": "code",
   "execution_count": null,
   "metadata": {},
   "outputs": [],
   "source": [
    "# Daily returns\n",
    "sol_returns = new_klines_df.pct_change()\n",
    "sol_returns"
   ]
  },
  {
   "cell_type": "code",
   "execution_count": null,
   "metadata": {},
   "outputs": [],
   "source": [
    "# Simple Moving Average\n",
    "sol_sma3 = sol_returns.rolling(window=3).mean().plot(figsize=(20,10), title='Standard Moving Average of Solana: 2020-2021')"
   ]
  },
  {
   "cell_type": "code",
   "execution_count": null,
   "metadata": {},
   "outputs": [],
   "source": [
    "# Simple Moving Average\n",
    "sol_sma8 = sol_returns.rolling(window=8).mean().plot(figsize=(20,10), title='Standard Moving Average of Solana: 2020-2021')"
   ]
  },
  {
   "cell_type": "code",
   "execution_count": null,
   "metadata": {},
   "outputs": [],
   "source": [
    "# Simple Moving Average\n",
    "sol_sma13= sol_returns.rolling(window=13).mean().plot(figsize=(20,10), title='Standard Moving Average of Solana: 2020-2021')"
   ]
  },
  {
   "cell_type": "markdown",
   "metadata": {},
   "source": [
    "#### Covariance measurements to find how price move with the number of trade orders\n"
   ]
  }
 ],
 "metadata": {
  "interpreter": {
   "hash": "e08a56bfc998586625869874a372b284b7c7ab80671161e215dec0dc2a21fc35"
  },
  "kernelspec": {
   "display_name": "Python 3.7.11 ('dev')",
   "language": "python",
   "name": "python3"
  },
  "language_info": {
   "codemirror_mode": {
    "name": "ipython",
    "version": 3
   },
   "file_extension": ".py",
   "mimetype": "text/x-python",
   "name": "python",
   "nbconvert_exporter": "python",
   "pygments_lexer": "ipython3",
   "version": "3.7.11"
  },
  "orig_nbformat": 4
 },
 "nbformat": 4,
 "nbformat_minor": 2
}
