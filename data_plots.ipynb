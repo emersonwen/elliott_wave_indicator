{
 "cells": [
  {
   "cell_type": "code",
   "execution_count": 4,
   "id": "3c529985-e3d4-4c36-a493-4ffe5404e5e7",
   "metadata": {},
   "outputs": [],
   "source": [
    "import pandas as pd\n",
    "import plotly as plt\n",
    "from pathlib import Path\n",
    "%matplotlib inline"
   ]
  },
  {
   "cell_type": "code",
   "execution_count": 6,
   "id": "2784577e-5e39-41e5-8882-c9c01711fe1b",
   "metadata": {},
   "outputs": [],
   "source": [
    "klines_csv_data = Path('klines.csv')\n",
    "k_csv_data = pd.read_csv(klines_csv_data)"
   ]
  },
  {
   "cell_type": "code",
   "execution_count": null,
   "id": "a1e64fc1-aa30-4913-8015-724d51577b36",
   "metadata": {},
   "outputs": [],
   "source": []
  },
  {
   "cell_type": "code",
   "execution_count": 7,
   "id": "0e62a29c-da0f-451c-891e-feca2f23f556",
   "metadata": {},
   "outputs": [
    {
     "ename": "NameError",
     "evalue": "name 'client' is not defined",
     "output_type": "error",
     "traceback": [
      "\u001b[1;31m---------------------------------------------------------------------------\u001b[0m",
      "\u001b[1;31mNameError\u001b[0m                                 Traceback (most recent call last)",
      "\u001b[1;32m~\\AppData\\Local\\Temp/ipykernel_21944/373847328.py\u001b[0m in \u001b[0;36m<module>\u001b[1;34m\u001b[0m\n\u001b[0;32m      1\u001b[0m \u001b[1;31m# Create a reduced window to monitor 1 year's worth of data\u001b[0m\u001b[1;33m\u001b[0m\u001b[1;33m\u001b[0m\u001b[0m\n\u001b[1;32m----> 2\u001b[1;33m \u001b[0msol20_to_21\u001b[0m \u001b[1;33m=\u001b[0m \u001b[0mclient\u001b[0m\u001b[1;33m.\u001b[0m\u001b[0mget_historical_klines\u001b[0m\u001b[1;33m(\u001b[0m\u001b[1;34m\"SOLUSD\"\u001b[0m\u001b[1;33m,\u001b[0m \u001b[0mClient\u001b[0m\u001b[1;33m.\u001b[0m\u001b[0mKLINE_INTERVAL_1DAY\u001b[0m\u001b[1;33m,\u001b[0m \u001b[1;34m\"30 Apr, 2020\"\u001b[0m\u001b[1;33m,\u001b[0m \u001b[1;34m\"30 Apr, 2021\"\u001b[0m\u001b[1;33m)\u001b[0m\u001b[1;33m\u001b[0m\u001b[1;33m\u001b[0m\u001b[0m\n\u001b[0m",
      "\u001b[1;31mNameError\u001b[0m: name 'client' is not defined"
     ]
    }
   ],
   "source": [
    "# Create a reduced window to monitor 1 year's worth of data\n",
    "sol20_to_21 = client.get_historical_klines(\"SOLUSD\",\"30 Apr, 2020\", \"30 Apr, 2021\")"
   ]
  },
  {
   "cell_type": "code",
   "execution_count": null,
   "id": "f1eedae6-522f-4b71-ade2-bdab6525efb8",
   "metadata": {},
   "outputs": [],
   "source": []
  }
 ],
 "metadata": {
  "kernelspec": {
   "display_name": "Python 3 (ipykernel)",
   "language": "python",
   "name": "python3"
  },
  "language_info": {
   "codemirror_mode": {
    "name": "ipython",
    "version": 3
   },
   "file_extension": ".py",
   "mimetype": "text/x-python",
   "name": "python",
   "nbconvert_exporter": "python",
   "pygments_lexer": "ipython3",
   "version": "3.9.7"
  }
 },
 "nbformat": 4,
 "nbformat_minor": 5
}
